{
 "cells": [
  {
   "cell_type": "code",
   "execution_count": 1,
   "metadata": {},
   "outputs": [
    {
     "name": "stdout",
     "output_type": "stream",
     "text": [
      "[[4, -6, 0, -2], [0.0, 4.0, 1.0, 6.0], [0.0, 0.0, 1.0, 2.0]]\n"
     ]
    }
   ],
   "source": [
    "def Gauss_elim(coef, res):\n",
    "    n = len(coef)\n",
    "    for i in range(n):\n",
    "        if len(coef[i]) != n:\n",
    "            print(\"Invalid input- coefficient matrix not square\")\n",
    "            return None\n",
    "    \n",
    "    # create augmented matrix M\n",
    "    M = coef\n",
    "    for i in range(n):\n",
    "        M[i].append(res[i])\n",
    "    \n",
    "    # Elimination- choose pivots, create triangular system\n",
    "    \n",
    "    for p in range(n):\n",
    "        # M[p][p] will be pivot- want nonzero if possible\n",
    "        pivots = [M[i][p] for i in range(p,n)] # list of possible pivots\n",
    "        ind_max = pivots.index(max(map(abs, pivots))) # choose largest pivot (in absolute value)\n",
    "        #print(pivots[ind_max])\n",
    "        \n",
    "        if pivots[ind_max] == 0:\n",
    "            print(\"Invalid input- singular matrix\")\n",
    "            return None\n",
    "        M[p], M[ind_max + p] = M[ind_max + p], M[p] # swap lines to ensure nonzero pivot M[p][p]\n",
    "        \n",
    "        # subtract multiples of line i from subsequent equations\n",
    "        for i in range(p + 1, n):\n",
    "            mult = M[i][p] / M[p][p]\n",
    "            for j in range(p, n + 1):\n",
    "                M[i][j] -= (mult * M[p][j])\n",
    "        \n",
    "    return M\n",
    "\n",
    "# Test for example matrix- system at the beginning of section 1.3\n",
    "coef = [[2, 1, 1], [4, -6, 0], [-2, 7, 2]]\n",
    "res = [5, -2, 9]\n",
    "\n",
    "print(Gauss_elim(coef,res))\n",
    "    \n",
    "    "
   ]
  }
 ],
 "metadata": {
  "kernelspec": {
   "display_name": "Python 3",
   "language": "python",
   "name": "python3"
  },
  "language_info": {
   "codemirror_mode": {
    "name": "ipython",
    "version": 3
   },
   "file_extension": ".py",
   "mimetype": "text/x-python",
   "name": "python",
   "nbconvert_exporter": "python",
   "pygments_lexer": "ipython3",
   "version": "3.7.6"
  }
 },
 "nbformat": 4,
 "nbformat_minor": 4
}
