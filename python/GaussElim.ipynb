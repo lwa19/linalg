{
 "cells": [
  {
   "cell_type": "code",
   "execution_count": 2,
   "metadata": {},
   "outputs": [],
   "source": [
    "import numpy as np"
   ]
  },
  {
   "cell_type": "code",
   "execution_count": 24,
   "metadata": {},
   "outputs": [
    {
     "name": "stdout",
     "output_type": "stream",
     "text": [
      "2.0\n",
      "-1.0\n",
      "-1.0\n",
      "[[ 2.  1.  1.]\n",
      " [ 4. -6.  0.]\n",
      " [-2.  7.  2.]]\n",
      "[1. 1. 2.]\n"
     ]
    }
   ],
   "source": [
    "def Gauss_elim(coef, res):\n",
    "    n = len(coef)\n",
    "    for i in range(n):\n",
    "        if len(coef[i]) != n:\n",
    "            print(\"Invalid input- coefficient matrix not square\")\n",
    "            return None\n",
    "    \n",
    "    # Elimination- choose pivots, create triangular system\n",
    "    \n",
    "    coef = coef.astype(np.float64) # to solve an error\n",
    "    E_inv = np.zeros((n,n)) # This will represent the product of inverse elementary matrices (chapter 1.5)\n",
    "    for p in range(n):\n",
    "        # M[p][p] will be pivot- want nonzero if possible\n",
    "        if (coef[p][p] == 0):\n",
    "            pivots = np.array([coef[i][p] for i in range(p,n)]) # list of possible pivots\n",
    "            ind_max = abs(pivots).argmax() # choose largest pivot (in absolute value)\n",
    "            #print(pivots[ind_max])\n",
    "        \n",
    "            if pivots[ind_max] == 0:\n",
    "                print(\"Invalid input- singular matrix\")\n",
    "                return None\n",
    "            \n",
    "            coef[p], coef[ind_max + p] = coef[ind_max + p], coef[p] # swap lines to ensure nonzero pivot M[p][p]\n",
    "            res[p], res[ind_max + p] = res[ind_max + p], res[p] # also swap RHS values\n",
    "            E_inv[p], E_inv[ind_max + p] = E_inv[ind_max + p], E_inv[p] # and inverse matrix product\n",
    "        \n",
    "        # subtract multiples of line p from subsequent equations\n",
    "        for i in range(p + 1, n):\n",
    "            mult = coef[i][p] / coef[p][p]\n",
    "            print(mult)\n",
    "            \n",
    "            coef[i][p:n] -= (mult * coef[p][p:n])\n",
    "            res[i] -= (mult * res[p])\n",
    "            E_inv[i][p] = mult # reasoning- equation (6), chapter 1.5\n",
    "        \n",
    "    # Backwards substitution- compute solution\n",
    "    \n",
    "    sol = np.empty(n)\n",
    "    for i in range(n - 1, -1, -1):\n",
    "        # subtract previously computed solutions from equation result\n",
    "        for j in range(n - 1, i, -1):\n",
    "            res[i] -= coef[i][j] * sol[j]\n",
    "        \n",
    "        # compute solution corresponding to coefficient M[i][i]\n",
    "        sol[i] = (res[i] / coef[i][i])\n",
    "        #print(res[i] / coef[i][i])\n",
    "    \n",
    "    # Recover initial coef matrix\n",
    "    \n",
    "    for i in range(n):\n",
    "        E_inv[i][i] = 1 # complete E_inv by filling diagonal with 1\n",
    "    coef = np.matmul(E_inv, coef) # recover initial coeficients\n",
    "    \n",
    "    print(coef)\n",
    "    return sol\n",
    "        \n",
    "\n",
    "# Test for example matrix- system at the beginning of section 1.3\n",
    "coef = np.array([[2, 1, 1], [4, -6, 0], [-2, 7, 2]])\n",
    "res = np.array([5, -2, 9])\n",
    "\n",
    "print(Gauss_elim(coef,res))\n",
    "    "
   ]
  }
 ],
 "metadata": {
  "kernelspec": {
   "display_name": "Python 3",
   "language": "python",
   "name": "python3"
  },
  "language_info": {
   "codemirror_mode": {
    "name": "ipython",
    "version": 3
   },
   "file_extension": ".py",
   "mimetype": "text/x-python",
   "name": "python",
   "nbconvert_exporter": "python",
   "pygments_lexer": "ipython3",
   "version": "3.7.6"
  }
 },
 "nbformat": 4,
 "nbformat_minor": 4
}
